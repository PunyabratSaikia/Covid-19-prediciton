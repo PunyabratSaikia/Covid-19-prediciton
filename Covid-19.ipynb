{
  "nbformat": 4,
  "nbformat_minor": 0,
  "metadata": {
    "kernelspec": {
      "display_name": "Python 3",
      "language": "python",
      "name": "python3"
    },
    "language_info": {
      "codemirror_mode": {
        "name": "ipython",
        "version": 3
      },
      "file_extension": ".py",
      "mimetype": "text/x-python",
      "name": "python",
      "nbconvert_exporter": "python",
      "pygments_lexer": "ipython3",
      "version": "3.6.5"
    },
    "colab": {
      "name": "Untitled.ipynb",
      "provenance": [],
      "collapsed_sections": []
    },
    "accelerator": "GPU"
  },
  "cells": [
    {
      "cell_type": "code",
      "metadata": {
        "id": "M4zWTs4nwGkO",
        "colab_type": "code",
        "outputId": "580bd488-e8f7-48b8-fbfe-a0c4c5b0727d",
        "colab": {
          "base_uri": "https://localhost:8080/",
          "height": 128
        }
      },
      "source": [
        "#importing google drive to get access to the datasets\n",
        "from google.colab import drive\n",
        "drive.mount('/content/drive')"
      ],
      "execution_count": 4,
      "outputs": [
        {
          "output_type": "stream",
          "text": [
            "Go to this URL in a browser: https://accounts.google.com/o/oauth2/auth?client_id=947318989803-6bn6qk8qdgf4n4g3pfee6491hc0brc4i.apps.googleusercontent.com&redirect_uri=urn%3aietf%3awg%3aoauth%3a2.0%3aoob&response_type=code&scope=email%20https%3a%2f%2fwww.googleapis.com%2fauth%2fdocs.test%20https%3a%2f%2fwww.googleapis.com%2fauth%2fdrive%20https%3a%2f%2fwww.googleapis.com%2fauth%2fdrive.photos.readonly%20https%3a%2f%2fwww.googleapis.com%2fauth%2fpeopleapi.readonly\n",
            "\n",
            "Enter your authorization code:\n",
            "··········\n",
            "Mounted at /content/drive\n"
          ],
          "name": "stdout"
        }
      ]
    },
    {
      "cell_type": "code",
      "metadata": {
        "id": "lai7zm4nwx9d",
        "colab_type": "code",
        "outputId": "2c693d8e-4bde-4c3f-d25c-6ff6b443b389",
        "colab": {
          "base_uri": "https://localhost:8080/",
          "height": 925
        }
      },
      "source": [
        "\n",
        "# At first, we import all the necessary python packages\n",
        "\n",
        "import matplotlib.pyplot as plt\n",
        "import numpy as np\n",
        "import argparse\n",
        "import cv2\n",
        "import os\n",
        "\n",
        "#we create two lists,one for our images data and the other for their labels.\n",
        "\n",
        "data = []\n",
        "labels = []\n",
        "\n",
        "#path to the dataset containing normal images in google drive\n",
        "path = \"/content/drive/My Drive/keras-covid-19/dataset/normal\"\n",
        "\n",
        "# looping over the images of normal-dataset\n",
        "for file in os.listdir(\"/content/drive/My Drive/keras-covid-19/dataset/normal\"):\n",
        "\t# setting label as '0' for normal images\n",
        "\tlabel = 0\n",
        "\n",
        "\t# loading the image,converting to rgb format and resizing to\n",
        "\t# 224x224 pixels while ignoring aspect ratio\n",
        "\n",
        "\timage = cv2.imread(path + '/' + file)\n",
        "\timage = cv2.cvtColor(image, cv2.COLOR_BGR2RGB)\n",
        "\timage = cv2.resize(image, (224, 224))\n",
        "\n",
        "\t# updating the data and labels lists, respectively\n",
        "\tdata.append(image)\n",
        "\tlabels.append(label)\n",
        "\n",
        "#path to the dataset containing covid-19 images in google drive\n",
        "path1 = \"/content/drive/My Drive/keras-covid-19/dataset/covid\"\n",
        "\n",
        "# looping over the images of covid-19-dataset\n",
        "for file in os.listdir(\"/content/drive/My Drive/keras-covid-19/dataset/covid\"):\n",
        "\t# setting label as '1' for covid images\n",
        "\tlabel = 1\n",
        "\n",
        "  # loading the image,converting to rgb format and resizing to\n",
        "\t# 224x224 pixels while ignoring aspect ratio\n",
        "\n",
        "\timage = cv2.imread(path1+ '/' + file)\n",
        "\timage = cv2.cvtColor(image, cv2.COLOR_BGR2RGB)\n",
        "\timage = cv2.resize(image, (224, 224))\n",
        "\n",
        "\t# update the data and labels lists, respectively\n",
        "\tdata.append(image)\n",
        "\tlabels.append(label)\n",
        "\n",
        "# convert the data and labels to NumPy arrays while scaling the pixel\n",
        "# intensities to the range [0, 255]\n",
        "data = np.array(data) / 255.0\n",
        "labels = np.array(labels)\n",
        "\n",
        "\n",
        "# converting the labels to one-hot-encode format\n",
        "lb = LabelBinarizer()\n",
        "labels = lb.fit_transform(labels)\n",
        "labels = to_categorical(labels)\n",
        "\n",
        "#viewing the labels as one-hot-encoded vectors\n",
        "print(labels)\n"
      ],
      "execution_count": 40,
      "outputs": [
        {
          "output_type": "stream",
          "text": [
            "[[1. 0.]\n",
            " [1. 0.]\n",
            " [1. 0.]\n",
            " [1. 0.]\n",
            " [1. 0.]\n",
            " [1. 0.]\n",
            " [1. 0.]\n",
            " [1. 0.]\n",
            " [1. 0.]\n",
            " [1. 0.]\n",
            " [1. 0.]\n",
            " [1. 0.]\n",
            " [1. 0.]\n",
            " [1. 0.]\n",
            " [1. 0.]\n",
            " [1. 0.]\n",
            " [1. 0.]\n",
            " [1. 0.]\n",
            " [1. 0.]\n",
            " [1. 0.]\n",
            " [1. 0.]\n",
            " [1. 0.]\n",
            " [1. 0.]\n",
            " [1. 0.]\n",
            " [1. 0.]\n",
            " [0. 1.]\n",
            " [0. 1.]\n",
            " [0. 1.]\n",
            " [0. 1.]\n",
            " [0. 1.]\n",
            " [0. 1.]\n",
            " [0. 1.]\n",
            " [0. 1.]\n",
            " [0. 1.]\n",
            " [0. 1.]\n",
            " [0. 1.]\n",
            " [0. 1.]\n",
            " [0. 1.]\n",
            " [0. 1.]\n",
            " [0. 1.]\n",
            " [0. 1.]\n",
            " [0. 1.]\n",
            " [0. 1.]\n",
            " [0. 1.]\n",
            " [0. 1.]\n",
            " [0. 1.]\n",
            " [0. 1.]\n",
            " [0. 1.]\n",
            " [0. 1.]\n",
            " [0. 1.]]\n"
          ],
          "name": "stdout"
        }
      ]
    },
    {
      "cell_type": "code",
      "metadata": {
        "id": "0o8D_LavjVlG",
        "colab_type": "code",
        "colab": {}
      },
      "source": [
        "# we initialize the learning rate and batch size for our training\n",
        "INIT_LR = 1e-3\n",
        "EPOCHS = 25\n",
        "BS = 8"
      ],
      "execution_count": 0,
      "outputs": []
    },
    {
      "cell_type": "code",
      "metadata": {
        "id": "RvjGqUmzjd6j",
        "colab_type": "code",
        "colab": {}
      },
      "source": [
        "#Importing necessary libraries of tensorflow and scikit-learn\n",
        "from tensorflow.keras.preprocessing.image import ImageDataGenerator\n",
        "from tensorflow.keras.applications import VGG16\n",
        "from tensorflow.keras.layers import AveragePooling2D\n",
        "from tensorflow.keras.layers import Dropout\n",
        "from tensorflow.keras.layers import Flatten\n",
        "from tensorflow.keras.layers import Dense\n",
        "from tensorflow.keras.layers import Input\n",
        "from tensorflow.keras.models import Model\n",
        "from tensorflow.keras.optimizers import Adam\n",
        "from tensorflow.keras.utils import to_categorical\n",
        "from sklearn.preprocessing import LabelBinarizer\n",
        "from sklearn.model_selection import train_test_split\n",
        "from sklearn.metrics import classification_report\n",
        "from sklearn.metrics import confusion_matrix\n",
        "from imutils import paths"
      ],
      "execution_count": 0,
      "outputs": []
    },
    {
      "cell_type": "code",
      "metadata": {
        "id": "xhFm-A6zjsI_",
        "colab_type": "code",
        "colab": {}
      },
      "source": [
        "# partitioning the data into training and testing splits using 70% of\n",
        "# the data for training and the remaining 30% for testing\n",
        "(trainX, testX, trainY, testY) = train_test_split(data, labels,\n",
        "\ttest_size=0.25, stratify=labels, random_state=42)\n",
        "\n",
        "# initialize the training data augmentation object tp create an augmented dataset of images rotated by 15 degrees random either anticlockwise or clockwise\n",
        "trainAug = ImageDataGenerator(\n",
        "\trotation_range=15,\n",
        "\tfill_mode=\"nearest\")"
      ],
      "execution_count": 0,
      "outputs": []
    },
    {
      "cell_type": "code",
      "metadata": {
        "id": "4142Tz4Kj73S",
        "colab_type": "code",
        "colab": {}
      },
      "source": [
        "# We use a deep-convolutional-network structure called VGG-16(VIRTUAL GEOMETRY GROUP:16)\n",
        "# loading the VGG16 network, ensuring the head FC layer sets are left off\n",
        "\n",
        "baseModel = VGG16(weights=\"imagenet\", include_top=False,\n",
        "\tinput_tensor=Input(shape=(224, 224, 3)))\n",
        "\n",
        "# constructing the head of the model that will be placed on top of the base model\n",
        "headModel = baseModel.output\n",
        "headModel = AveragePooling2D(pool_size=(4, 4))(headModel)   #applying a pooling  layer\n",
        "headModel = Flatten(name=\"flatten\")(headModel)              #applying a flattened layer\n",
        "headModel = Dense(64, activation=\"relu\")(headModel)         #applying a dense layer with ReLU(rectified linear unit) as the activation function\n",
        "headModel = Dropout(0.5)(headModel)                         #applying a dropout layer with probabilty of 0.5\n",
        "headModel = Dense(2, activation=\"softmax\")(headModel)       #Finally outputing the final layer with the softmax activation function\n",
        "\n",
        "\n",
        "# place the head FC(Fully connected) model on top of the base model (this will become\n",
        "# the actual model we will train)\n",
        "model = Model(inputs=baseModel.input, outputs=headModel)\n",
        "\n",
        "# looping over all layers in the base model and freezing them so they will not be updated during the first training process\n",
        "for layer in baseModel.layers:\n",
        "\tlayer.trainable = False\n"
      ],
      "execution_count": 0,
      "outputs": []
    },
    {
      "cell_type": "code",
      "metadata": {
        "id": "wraPmzBGlrsL",
        "colab_type": "code",
        "colab": {
          "base_uri": "https://localhost:8080/",
          "height": 962
        },
        "outputId": "3321e4d6-de51-4193-df89-86c18a25dc97"
      },
      "source": [
        "# We compile our built model\n",
        "print(\"[INFO] compiling model...\")\n",
        "opt = Adam(lr=INIT_LR, decay=INIT_LR / EPOCHS)      #using adam's optimizer for the loss function\n",
        "model.compile(loss=\"binary_crossentropy\", optimizer=opt,\n",
        "\tmetrics=[\"accuracy\"])\n",
        "\n",
        "# train the head of the network\n",
        "print(\"[INFO] training head...\")\n",
        "H = model.fit_generator(\n",
        "\ttrainAug.flow(trainX, trainY, batch_size=BS),     #finalizing the batch size,epochs-steps.-Batch size(BS)=8\n",
        "\tsteps_per_epoch=len(trainX) // BS,\n",
        "\tvalidation_data=(testX, testY),\n",
        "\tvalidation_steps=len(testX) // BS,\n",
        "\tepochs=EPOCHS)"
      ],
      "execution_count": 45,
      "outputs": [
        {
          "output_type": "stream",
          "text": [
            "[INFO] compiling model...\n",
            "[INFO] training head...\n",
            "Epoch 1/25\n",
            "4/4 [==============================] - 1s 138ms/step - loss: 0.8232 - accuracy: 0.5312 - val_loss: 0.6569 - val_accuracy: 0.6154\n",
            "Epoch 2/25\n",
            "4/4 [==============================] - 0s 113ms/step - loss: 0.8796 - accuracy: 0.4828 - val_loss: 0.6594 - val_accuracy: 0.4615\n",
            "Epoch 3/25\n",
            "4/4 [==============================] - 0s 100ms/step - loss: 0.8414 - accuracy: 0.5517 - val_loss: 0.6631 - val_accuracy: 0.4615\n",
            "Epoch 4/25\n",
            "4/4 [==============================] - 0s 102ms/step - loss: 0.7930 - accuracy: 0.5172 - val_loss: 0.6586 - val_accuracy: 0.4615\n",
            "Epoch 5/25\n",
            "4/4 [==============================] - 0s 94ms/step - loss: 0.7115 - accuracy: 0.5517 - val_loss: 0.6441 - val_accuracy: 0.4615\n",
            "Epoch 6/25\n",
            "4/4 [==============================] - 0s 103ms/step - loss: 0.7201 - accuracy: 0.6562 - val_loss: 0.6158 - val_accuracy: 0.8462\n",
            "Epoch 7/25\n",
            "4/4 [==============================] - 0s 106ms/step - loss: 0.7084 - accuracy: 0.5172 - val_loss: 0.6012 - val_accuracy: 0.9231\n",
            "Epoch 8/25\n",
            "4/4 [==============================] - 0s 98ms/step - loss: 0.5791 - accuracy: 0.6552 - val_loss: 0.5943 - val_accuracy: 0.7692\n",
            "Epoch 9/25\n",
            "4/4 [==============================] - 0s 97ms/step - loss: 0.6196 - accuracy: 0.6897 - val_loss: 0.5878 - val_accuracy: 0.7692\n",
            "Epoch 10/25\n",
            "4/4 [==============================] - 0s 95ms/step - loss: 0.5430 - accuracy: 0.6897 - val_loss: 0.5819 - val_accuracy: 0.9231\n",
            "Epoch 11/25\n",
            "4/4 [==============================] - 0s 103ms/step - loss: 0.5752 - accuracy: 0.7812 - val_loss: 0.5805 - val_accuracy: 0.9231\n",
            "Epoch 12/25\n",
            "4/4 [==============================] - 0s 105ms/step - loss: 0.5602 - accuracy: 0.7931 - val_loss: 0.5770 - val_accuracy: 0.8462\n",
            "Epoch 13/25\n",
            "4/4 [==============================] - 0s 95ms/step - loss: 0.5148 - accuracy: 0.8621 - val_loss: 0.5675 - val_accuracy: 0.8462\n",
            "Epoch 14/25\n",
            "4/4 [==============================] - 0s 98ms/step - loss: 0.6120 - accuracy: 0.6897 - val_loss: 0.5516 - val_accuracy: 0.9231\n",
            "Epoch 15/25\n",
            "4/4 [==============================] - 0s 95ms/step - loss: 0.5527 - accuracy: 0.7241 - val_loss: 0.5394 - val_accuracy: 0.9231\n",
            "Epoch 16/25\n",
            "4/4 [==============================] - 0s 107ms/step - loss: 0.5177 - accuracy: 0.7812 - val_loss: 0.5295 - val_accuracy: 0.9231\n",
            "Epoch 17/25\n",
            "4/4 [==============================] - 0s 107ms/step - loss: 0.4997 - accuracy: 0.7586 - val_loss: 0.5213 - val_accuracy: 0.9231\n",
            "Epoch 18/25\n",
            "4/4 [==============================] - 0s 100ms/step - loss: 0.5246 - accuracy: 0.8276 - val_loss: 0.5122 - val_accuracy: 0.9231\n",
            "Epoch 19/25\n",
            "4/4 [==============================] - 0s 98ms/step - loss: 0.5658 - accuracy: 0.7241 - val_loss: 0.5045 - val_accuracy: 0.9231\n",
            "Epoch 20/25\n",
            "4/4 [==============================] - 0s 93ms/step - loss: 0.4308 - accuracy: 0.9655 - val_loss: 0.4991 - val_accuracy: 0.9231\n",
            "Epoch 21/25\n",
            "4/4 [==============================] - 0s 108ms/step - loss: 0.4698 - accuracy: 0.8125 - val_loss: 0.4911 - val_accuracy: 0.9231\n",
            "Epoch 22/25\n",
            "4/4 [==============================] - 0s 109ms/step - loss: 0.3885 - accuracy: 0.9310 - val_loss: 0.4795 - val_accuracy: 0.9231\n",
            "Epoch 23/25\n",
            "4/4 [==============================] - 0s 98ms/step - loss: 0.3933 - accuracy: 0.8966 - val_loss: 0.4678 - val_accuracy: 0.9231\n",
            "Epoch 24/25\n",
            "4/4 [==============================] - 0s 96ms/step - loss: 0.3989 - accuracy: 0.8621 - val_loss: 0.4558 - val_accuracy: 0.9231\n",
            "Epoch 25/25\n",
            "4/4 [==============================] - 0s 94ms/step - loss: 0.4215 - accuracy: 0.8621 - val_loss: 0.4496 - val_accuracy: 0.9231\n"
          ],
          "name": "stdout"
        }
      ]
    },
    {
      "cell_type": "code",
      "metadata": {
        "id": "XvmNP5YkmOVz",
        "colab_type": "code",
        "colab": {
          "base_uri": "https://localhost:8080/",
          "height": 35
        },
        "outputId": "dadc8689-6c26-43de-d7ac-8e47fae096f0"
      },
      "source": [
        "#making predictions on the testing set\n",
        "print(\"[INFO] evaluating network...\")\n",
        "predIdxs = model.predict(testX, batch_size=BS)\n",
        "\n",
        "# we have to find the index of the label with corresponding largest predicted probability for each image in the testing data\n",
        "predIdxs = np.argmax(predIdxs, axis=1)"
      ],
      "execution_count": 46,
      "outputs": [
        {
          "output_type": "stream",
          "text": [
            "[INFO] evaluating network...\n"
          ],
          "name": "stdout"
        }
      ]
    },
    {
      "cell_type": "code",
      "metadata": {
        "id": "4u9kJRDxnQ3q",
        "colab_type": "code",
        "colab": {
          "base_uri": "https://localhost:8080/",
          "height": 271
        },
        "outputId": "83417013-6e2c-4200-e37d-c35f8fec6681"
      },
      "source": [
        "# Finally  we compute the confusion matrix and analyse the accuracy, recall, f1-score,macro average ,weighted average,sensitivity, and specificity.\n",
        "print(classification_report(testY.argmax(axis=1), predIdxs))\n",
        "cm = confusion_matrix(testY.argmax(axis=1), predIdxs)\n",
        "total = sum(sum(cm))\n",
        "acc = (cm[0, 0] + cm[1, 1]) / total\n",
        "sensitivity = cm[0, 0] / (cm[0, 0] + cm[0, 1])\n",
        "specificity = cm[1, 1] / (cm[1, 0] + cm[1, 1])\n",
        "\n",
        "# show the confusion matrix, accuracy, sensitivity, and specificity\n",
        "print(cm)\n",
        "print(\"acc: {:.4f}\".format(acc))\n",
        "print(\"sensitivity: {:.4f}\".format(sensitivity))\n",
        "print(\"specificity: {:.4f}\".format(specificity))"
      ],
      "execution_count": 47,
      "outputs": [
        {
          "output_type": "stream",
          "text": [
            "              precision    recall  f1-score   support\n",
            "\n",
            "           0       1.00      0.83      0.91         6\n",
            "           1       0.88      1.00      0.93         7\n",
            "\n",
            "    accuracy                           0.92        13\n",
            "   macro avg       0.94      0.92      0.92        13\n",
            "weighted avg       0.93      0.92      0.92        13\n",
            "\n",
            "[[5 1]\n",
            " [0 7]]\n",
            "acc: 0.9231\n",
            "sensitivity: 0.8333\n",
            "specificity: 1.0000\n"
          ],
          "name": "stdout"
        }
      ]
    },
    {
      "cell_type": "code",
      "metadata": {
        "id": "RSDvCnBanoik",
        "colab_type": "code",
        "colab": {
          "base_uri": "https://localhost:8080/",
          "height": 317
        },
        "outputId": "8c4e0a85-7693-4ac7-927f-b4f9b0779976"
      },
      "source": [
        "#Achieved an accuracy of 92% on the testing data set and other validation-measures are as shown in the report above\n",
        "#At last we are plotting a graph of the training loss an accuracy\n",
        "N = EPOCHS\n",
        "plt.style.use(\"ggplot\")\n",
        "plt.figure()\n",
        "plt.plot(np.arange(0, N), H.history[\"loss\"], label=\"train_loss\")\n",
        "plt.plot(np.arange(0, N), H.history[\"val_loss\"], label=\"val_loss\")\n",
        "plt.plot(np.arange(0, N), H.history[\"accuracy\"], label=\"train_acc\")\n",
        "plt.plot(np.arange(0, N), H.history[\"val_accuracy\"], label=\"val_acc\")\n",
        "plt.title(\"Training Loss and Accuracy on COVID-19 Dataset\")\n",
        "plt.xlabel(\"Epoch #\")\n",
        "plt.ylabel(\"Loss/Accuracy\")\n",
        "plt.legend(loc=\"lower left\")\n"
      ],
      "execution_count": 48,
      "outputs": [
        {
          "output_type": "execute_result",
          "data": {
            "text/plain": [
              "<matplotlib.legend.Legend at 0x7fef9e9488d0>"
            ]
          },
          "metadata": {
            "tags": []
          },
          "execution_count": 48
        },
        {
          "output_type": "display_data",
          "data": {
            "image/png": "[encoded data removed]",
            "text/plain": [
              "<Figure size 432x288 with 1 Axes>"
            ]
          },
          "metadata": {
            "tags": []
          }
        }
      ]
    },
    {
      "cell_type": "code",
      "metadata": {
        "id": "C-h9FhitoJmw",
        "colab_type": "code",
        "colab": {}
      },
      "source": [
        "####################################    THANK YOU     #################################################"
      ],
      "execution_count": 0,
      "outputs": []
    },
    {
      "cell_type": "code",
      "metadata": {
        "id": "rfdB4WNZoUEY",
        "colab_type": "code",
        "colab": {}
      },
      "source": [
        ""
      ],
      "execution_count": 0,
      "outputs": []
    }
  ]
}