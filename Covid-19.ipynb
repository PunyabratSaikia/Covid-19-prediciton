{
  "nbformat": 4,
  "nbformat_minor": 0,
  "metadata": {
    "kernelspec": {
      "display_name": "Python 3",
      "language": "python",
      "name": "python3"
    },
    "language_info": {
      "codemirror_mode": {
        "name": "ipython",
        "version": 3
      },
      "file_extension": ".py",
      "mimetype": "text/x-python",
      "name": "python",
      "nbconvert_exporter": "python",
      "pygments_lexer": "ipython3",
      "version": "3.6.5"
    },
    "colab": {
      "name": "Untitled.ipynb",
      "provenance": [],
      "collapsed_sections": []
    },
    "accelerator": "GPU"
  },
  "cells": [
    {
      "cell_type": "code",
      "metadata": {
        "id": "M4zWTs4nwGkO",
        "colab_type": "code",
        "outputId": "8f78c1fd-4738-4418-9087-4672eba3e64d",
        "colab": {
          "base_uri": "https://localhost:8080/",
          "height": 128
        }
      },
      "source": [
        "#importing google drive to get access to the datasets\n",
        "from google.colab import drive\n",
        "drive.mount('/content/drive')"
      ],
      "execution_count": 2,
      "outputs": [
        {
          "output_type": "stream",
          "text": [
            "Go to this URL in a browser: https://accounts.google.com/o/oauth2/auth?client_id=947318989803-6bn6qk8qdgf4n4g3pfee6491hc0brc4i.apps.googleusercontent.com&redirect_uri=urn%3aietf%3awg%3aoauth%3a2.0%3aoob&response_type=code&scope=email%20https%3a%2f%2fwww.googleapis.com%2fauth%2fdocs.test%20https%3a%2f%2fwww.googleapis.com%2fauth%2fdrive%20https%3a%2f%2fwww.googleapis.com%2fauth%2fdrive.photos.readonly%20https%3a%2f%2fwww.googleapis.com%2fauth%2fpeopleapi.readonly\n",
            "\n",
            "Enter your authorization code:\n",
            "··········\n",
            "Mounted at /content/drive\n"
          ],
          "name": "stdout"
        }
      ]
    },
    {
      "cell_type": "code",
      "metadata": {
        "id": "l21yD8Yv61Tt",
        "colab_type": "code",
        "colab": {}
      },
      "source": [
        "Accuracy = []     #list to store accuracy for different batch sizes\n",
        "BS = [2,4,6,8,10] #list storing different batch sizes"
      ],
      "execution_count": 0,
      "outputs": []
    },
    {
      "cell_type": "code",
      "metadata": {
        "id": "lai7zm4nwx9d",
        "colab_type": "code",
        "outputId": "f1cc51f1-d8a0-41be-c262-9bcc4a408b51",
        "colab": {
          "base_uri": "https://localhost:8080/",
          "height": 925
        }
      },
      "source": [
        "# At first, we import all the necessary python packages\n",
        "\n",
        "import matplotlib.pyplot as plt\n",
        "import numpy as np\n",
        "import argparse\n",
        "import cv2\n",
        "import os\n",
        "from sklearn.preprocessing import LabelBinarizer\n",
        "from tensorflow.keras.utils import to_categorical\n",
        "\n",
        "#we create two lists,one for our images data and the other for their labels.\n",
        "\n",
        "data = []\n",
        "labels = []\n",
        "\n",
        "#path to the dataset containing normal images in google drive\n",
        "path = \"/content/drive/My Drive/keras-covid-19/dataset/normal\"\n",
        "\n",
        "# looping over the images of normal-dataset\n",
        "for file in os.listdir(\"/content/drive/My Drive/keras-covid-19/dataset/normal\"):\n",
        "\t# setting label as '0' for normal images\n",
        "\tlabel = 0\n",
        "\n",
        "\t# loading the image,converting to rgb format and resizing to\n",
        "\t# 224x224 pixels while ignoring aspect ratio\n",
        "\n",
        "\timage = cv2.imread(path + '/' + file)\n",
        "\timage = cv2.cvtColor(image, cv2.COLOR_BGR2RGB)\n",
        "\timage = cv2.resize(image, (224, 224))\n",
        "\n",
        "\t# updating the data and labels lists, respectively\n",
        "\tdata.append(image)\n",
        "\tlabels.append(label)\n",
        "\n",
        "#path to the dataset containing covid-19 images in google drive\n",
        "path1 = \"/content/drive/My Drive/keras-covid-19/dataset/covid\"\n",
        "\n",
        "# looping over the images of covid-19-dataset\n",
        "for file in os.listdir(\"/content/drive/My Drive/keras-covid-19/dataset/covid\"):\n",
        "\t# setting label as '1' for covid images\n",
        "\tlabel = 1\n",
        "\n",
        "  # loading the image,converting to rgb format and resizing to\n",
        "\t# 224x224 pixels while ignoring aspect ratio\n",
        "\n",
        "\timage = cv2.imread(path1+ '/' + file)\n",
        "\timage = cv2.cvtColor(image, cv2.COLOR_BGR2RGB)\n",
        "\timage = cv2.resize(image, (224, 224))\n",
        "\n",
        "\t# update the data and labels lists, respectively\n",
        "\tdata.append(image)\n",
        "\tlabels.append(label)\n",
        "\n",
        "# convert the data and labels to NumPy arrays while scaling the pixel\n",
        "# intensities to the range [0, 255]\n",
        "data = np.array(data) / 255.0\n",
        "labels = np.array(labels)\n",
        "\n",
        "\n",
        "# converting the labels to one-hot-encode format\n",
        "lb = LabelBinarizer()\n",
        "labels = lb.fit_transform(labels)\n",
        "labels = to_categorical(labels)\n",
        "\n",
        "#viewing the labels as one-hot-encoded vectors\n",
        "print(labels)\n"
      ],
      "execution_count": 89,
      "outputs": [
        {
          "output_type": "stream",
          "text": [
            "[[1. 0.]\n",
            " [1. 0.]\n",
            " [1. 0.]\n",
            " [1. 0.]\n",
            " [1. 0.]\n",
            " [1. 0.]\n",
            " [1. 0.]\n",
            " [1. 0.]\n",
            " [1. 0.]\n",
            " [1. 0.]\n",
            " [1. 0.]\n",
            " [1. 0.]\n",
            " [1. 0.]\n",
            " [1. 0.]\n",
            " [1. 0.]\n",
            " [1. 0.]\n",
            " [1. 0.]\n",
            " [1. 0.]\n",
            " [1. 0.]\n",
            " [1. 0.]\n",
            " [1. 0.]\n",
            " [1. 0.]\n",
            " [1. 0.]\n",
            " [1. 0.]\n",
            " [1. 0.]\n",
            " [0. 1.]\n",
            " [0. 1.]\n",
            " [0. 1.]\n",
            " [0. 1.]\n",
            " [0. 1.]\n",
            " [0. 1.]\n",
            " [0. 1.]\n",
            " [0. 1.]\n",
            " [0. 1.]\n",
            " [0. 1.]\n",
            " [0. 1.]\n",
            " [0. 1.]\n",
            " [0. 1.]\n",
            " [0. 1.]\n",
            " [0. 1.]\n",
            " [0. 1.]\n",
            " [0. 1.]\n",
            " [0. 1.]\n",
            " [0. 1.]\n",
            " [0. 1.]\n",
            " [0. 1.]\n",
            " [0. 1.]\n",
            " [0. 1.]\n",
            " [0. 1.]\n",
            " [0. 1.]]\n"
          ],
          "name": "stdout"
        }
      ]
    },
    {
      "cell_type": "code",
      "metadata": {
        "id": "0o8D_LavjVlG",
        "colab_type": "code",
        "colab": {}
      },
      "source": [
        "# we initialize the learning rate and batch size for our training\n",
        "INIT_LR = 1e-3\n",
        "EPOCHS = 25\n",
        "BS = 8"
      ],
      "execution_count": 0,
      "outputs": []
    },
    {
      "cell_type": "code",
      "metadata": {
        "id": "RvjGqUmzjd6j",
        "colab_type": "code",
        "colab": {}
      },
      "source": [
        "#Importing necessary libraries of tensorflow and scikit-learn\n",
        "from tensorflow.keras.preprocessing.image import ImageDataGenerator\n",
        "from tensorflow.keras.applications import VGG16\n",
        "from tensorflow.keras.layers import AveragePooling2D\n",
        "from tensorflow.keras.layers import Dropout\n",
        "from tensorflow.keras.layers import Flatten\n",
        "from tensorflow.keras.layers import Dense\n",
        "from tensorflow.keras.layers import Input\n",
        "from tensorflow.keras.models import Model\n",
        "from tensorflow.keras.optimizers import Adam\n",
        "from tensorflow.keras.utils import to_categorical\n",
        "from sklearn.preprocessing import LabelBinarizer\n",
        "from sklearn.model_selection import train_test_split\n",
        "from sklearn.metrics import classification_report\n",
        "from sklearn.metrics import confusion_matrix\n",
        "from imutils import paths"
      ],
      "execution_count": 0,
      "outputs": []
    },
    {
      "cell_type": "code",
      "metadata": {
        "id": "xhFm-A6zjsI_",
        "colab_type": "code",
        "colab": {}
      },
      "source": [
        "# partitioning the data into training and testing splits using 75% of\n",
        "# the data for training and the remaining 25% for testing\n",
        "(trainX, testX, trainY, testY) = train_test_split(data, labels,\n",
        "\ttest_size=0.25, stratify=labels, random_state=42)\n",
        "\n",
        "# initialize the training data augmentation object tp create an augmented dataset of images rotated by 15 degrees random either anticlockwise or clockwise\n",
        "trainAug = ImageDataGenerator(\n",
        "\trotation_range=15,\n",
        "\tfill_mode=\"nearest\")"
      ],
      "execution_count": 0,
      "outputs": []
    },
    {
      "cell_type": "code",
      "metadata": {
        "id": "4142Tz4Kj73S",
        "colab_type": "code",
        "colab": {}
      },
      "source": [
        "# We use a deep-convolutional-network structure called VGG-16(VIRTUAL GEOMETRY GROUP:16)\n",
        "# loading the VGG16 network, ensuring the head FC layer sets are left off\n",
        "\n",
        "baseModel = VGG16(weights=\"imagenet\", include_top=False,\n",
        "\tinput_tensor=Input(shape=(224, 224, 3)))\n",
        "\n",
        "# constructing the head of the model that will be placed on top of the base model\n",
        "headModel = baseModel.output\n",
        "headModel = AveragePooling2D(pool_size=(4, 4))(headModel)   #applying a pooling  layer\n",
        "headModel = Flatten(name=\"flatten\")(headModel)              #applying a flattened layer\n",
        "headModel = Dense(64, activation=\"relu\")(headModel)         #applying a dense layer with ReLU(rectified linear unit) as the activation function\n",
        "headModel = Dropout(0.5)(headModel)                         #applying a dropout layer with probabilty of 0.5\n",
        "headModel = Dense(2, activation=\"softmax\")(headModel)       #Finally outputing the final layer with the softmax activation function\n",
        "\n",
        "\n",
        "# place the head FC(Fully connected) model on top of the base model (this will become\n",
        "# the actual model we will train)\n",
        "model = Model(inputs=baseModel.input, outputs=headModel)\n",
        "\n",
        "# looping over all layers in the base model and freezing them so they will not be updated during the first training process\n",
        "for layer in baseModel.layers:\n",
        "\tlayer.trainable = False\n"
      ],
      "execution_count": 0,
      "outputs": []
    },
    {
      "cell_type": "code",
      "metadata": {
        "id": "wraPmzBGlrsL",
        "colab_type": "code",
        "outputId": "148fc801-b472-4091-941a-ecd53f58673f",
        "colab": {
          "base_uri": "https://localhost:8080/",
          "height": 962
        }
      },
      "source": [
        "# We compile our built model\n",
        "print(\"[INFO] compiling model...\")\n",
        "opt = Adam(lr=INIT_LR, decay=INIT_LR / EPOCHS)      #using adam's optimizer for the loss function\n",
        "model.compile(loss=\"binary_crossentropy\", optimizer=opt,\n",
        "\tmetrics=[\"accuracy\"])\n",
        "\n",
        "# train the head of the network\n",
        "print(\"[INFO] training head...\")\n",
        "H = model.fit_generator(\n",
        "\ttrainAug.flow(trainX, trainY, batch_size=BS),     #finalizing the batch size,epochs-steps.-Batch size(BS)=8\n",
        "\tsteps_per_epoch=len(trainX) // BS,\n",
        "\tvalidation_data=(testX, testY),\n",
        "\tvalidation_steps=len(testX) // BS,\n",
        "\tepochs=EPOCHS)"
      ],
      "execution_count": 111,
      "outputs": [
        {
          "output_type": "stream",
          "text": [
            "[INFO] compiling model...\n",
            "[INFO] training head...\n",
            "Epoch 1/25\n",
            "4/4 [==============================] - 1s 139ms/step - loss: 0.6993 - accuracy: 0.5312 - val_loss: 0.7543 - val_accuracy: 0.4615\n",
            "Epoch 2/25\n",
            "4/4 [==============================] - 0s 111ms/step - loss: 0.7961 - accuracy: 0.5517 - val_loss: 0.7197 - val_accuracy: 0.3846\n",
            "Epoch 3/25\n",
            "4/4 [==============================] - 0s 96ms/step - loss: 0.7936 - accuracy: 0.5172 - val_loss: 0.6895 - val_accuracy: 0.5385\n",
            "Epoch 4/25\n",
            "4/4 [==============================] - 0s 98ms/step - loss: 0.7701 - accuracy: 0.4138 - val_loss: 0.6721 - val_accuracy: 0.6154\n",
            "Epoch 5/25\n",
            "4/4 [==============================] - 0s 92ms/step - loss: 0.6200 - accuracy: 0.7586 - val_loss: 0.6674 - val_accuracy: 0.6154\n",
            "Epoch 6/25\n",
            "4/4 [==============================] - 0s 106ms/step - loss: 0.7048 - accuracy: 0.5000 - val_loss: 0.6570 - val_accuracy: 0.6154\n",
            "Epoch 7/25\n",
            "4/4 [==============================] - 0s 107ms/step - loss: 0.6348 - accuracy: 0.6552 - val_loss: 0.6525 - val_accuracy: 0.6154\n",
            "Epoch 8/25\n",
            "4/4 [==============================] - 0s 99ms/step - loss: 0.6221 - accuracy: 0.6207 - val_loss: 0.6367 - val_accuracy: 0.6154\n",
            "Epoch 9/25\n",
            "4/4 [==============================] - 0s 95ms/step - loss: 0.6165 - accuracy: 0.6897 - val_loss: 0.6089 - val_accuracy: 0.8462\n",
            "Epoch 10/25\n",
            "4/4 [==============================] - 0s 94ms/step - loss: 0.4965 - accuracy: 0.7241 - val_loss: 0.5925 - val_accuracy: 0.8462\n",
            "Epoch 11/25\n",
            "4/4 [==============================] - 0s 103ms/step - loss: 0.5169 - accuracy: 0.7188 - val_loss: 0.5729 - val_accuracy: 0.8462\n",
            "Epoch 12/25\n",
            "4/4 [==============================] - 0s 108ms/step - loss: 0.5524 - accuracy: 0.7586 - val_loss: 0.5561 - val_accuracy: 0.9231\n",
            "Epoch 13/25\n",
            "4/4 [==============================] - 0s 98ms/step - loss: 0.4650 - accuracy: 0.8276 - val_loss: 0.5439 - val_accuracy: 0.9231\n",
            "Epoch 14/25\n",
            "4/4 [==============================] - 0s 96ms/step - loss: 0.6009 - accuracy: 0.7241 - val_loss: 0.5276 - val_accuracy: 0.9231\n",
            "Epoch 15/25\n",
            "4/4 [==============================] - 0s 95ms/step - loss: 0.4750 - accuracy: 0.8276 - val_loss: 0.5105 - val_accuracy: 1.0000\n",
            "Epoch 16/25\n",
            "4/4 [==============================] - 0s 103ms/step - loss: 0.4514 - accuracy: 0.8125 - val_loss: 0.4996 - val_accuracy: 1.0000\n",
            "Epoch 17/25\n",
            "4/4 [==============================] - 0s 109ms/step - loss: 0.4802 - accuracy: 0.8276 - val_loss: 0.4972 - val_accuracy: 0.9231\n",
            "Epoch 18/25\n",
            "4/4 [==============================] - 0s 95ms/step - loss: 0.3812 - accuracy: 0.9310 - val_loss: 0.4961 - val_accuracy: 0.9231\n",
            "Epoch 19/25\n",
            "4/4 [==============================] - 0s 96ms/step - loss: 0.5393 - accuracy: 0.6897 - val_loss: 0.4788 - val_accuracy: 0.9231\n",
            "Epoch 20/25\n",
            "4/4 [==============================] - 0s 92ms/step - loss: 0.5152 - accuracy: 0.8276 - val_loss: 0.4651 - val_accuracy: 1.0000\n",
            "Epoch 21/25\n",
            "4/4 [==============================] - 0s 103ms/step - loss: 0.3608 - accuracy: 0.8750 - val_loss: 0.4582 - val_accuracy: 0.9231\n",
            "Epoch 22/25\n",
            "4/4 [==============================] - 0s 106ms/step - loss: 0.3600 - accuracy: 0.9655 - val_loss: 0.4476 - val_accuracy: 1.0000\n",
            "Epoch 23/25\n",
            "4/4 [==============================] - 0s 99ms/step - loss: 0.4247 - accuracy: 0.8621 - val_loss: 0.4398 - val_accuracy: 0.9231\n",
            "Epoch 24/25\n",
            "4/4 [==============================] - 0s 96ms/step - loss: 0.3530 - accuracy: 0.8966 - val_loss: 0.4341 - val_accuracy: 0.9231\n",
            "Epoch 25/25\n",
            "4/4 [==============================] - 0s 91ms/step - loss: 0.4334 - accuracy: 0.8276 - val_loss: 0.4222 - val_accuracy: 0.9231\n"
          ],
          "name": "stdout"
        }
      ]
    },
    {
      "cell_type": "code",
      "metadata": {
        "id": "XvmNP5YkmOVz",
        "colab_type": "code",
        "outputId": "9dff538b-0b69-4aaf-c288-0c966dc006a6",
        "colab": {
          "base_uri": "https://localhost:8080/",
          "height": 35
        }
      },
      "source": [
        "#making predictions on the testing set\n",
        "print(\"[INFO] evaluating network...\")\n",
        "predIdxs = model.predict(testX, batch_size=BS)\n",
        "\n",
        "# we have to find the index of the label with corresponding largest predicted probability for each image in the testing data\n",
        "predIdxs = np.argmax(predIdxs, axis=1)"
      ],
      "execution_count": 112,
      "outputs": [
        {
          "output_type": "stream",
          "text": [
            "[INFO] evaluating network...\n"
          ],
          "name": "stdout"
        }
      ]
    },
    {
      "cell_type": "code",
      "metadata": {
        "id": "4u9kJRDxnQ3q",
        "colab_type": "code",
        "outputId": "e6a1e64b-1735-4060-ff60-3316c6bd541b",
        "colab": {
          "base_uri": "https://localhost:8080/",
          "height": 271
        }
      },
      "source": [
        "# Finally  we compute the confusion matrix and analyse the accuracy, recall, f1-score,macro average ,weighted average,sensitivity, and specificity.\n",
        "print(classification_report(testY.argmax(axis=1), predIdxs))\n",
        "cm = confusion_matrix(testY.argmax(axis=1), predIdxs)\n",
        "total = sum(sum(cm))\n",
        "acc = (cm[0, 0] + cm[1, 1]) / total\n",
        "sensitivity = cm[0, 0] / (cm[0, 0] + cm[0, 1])\n",
        "specificity = cm[1, 1] / (cm[1, 0] + cm[1, 1])\n",
        "\n",
        "# show the confusion matrix, accuracy, sensitivity, and specificity\n",
        "print(cm)\n",
        "print(\"acc: {:.4f}\".format(acc))\n",
        "print(\"sensitivity: {:.4f}\".format(sensitivity))\n",
        "print(\"specificity: {:.4f}\".format(specificity))\n",
        "Accuracy.append(acc)"
      ],
      "execution_count": 113,
      "outputs": [
        {
          "output_type": "stream",
          "text": [
            "              precision    recall  f1-score   support\n",
            "\n",
            "           0       0.86      1.00      0.92         6\n",
            "           1       1.00      0.86      0.92         7\n",
            "\n",
            "    accuracy                           0.92        13\n",
            "   macro avg       0.93      0.93      0.92        13\n",
            "weighted avg       0.93      0.92      0.92        13\n",
            "\n",
            "[[6 0]\n",
            " [1 6]]\n",
            "acc: 0.9231\n",
            "sensitivity: 1.0000\n",
            "specificity: 0.8571\n"
          ],
          "name": "stdout"
        }
      ]
    },
    {
      "cell_type": "code",
      "metadata": {
        "id": "RSDvCnBanoik",
        "colab_type": "code",
        "outputId": "3e662212-d7e5-4474-8f2e-e854fc0a0730",
        "colab": {
          "base_uri": "https://localhost:8080/",
          "height": 317
        }
      },
      "source": [
        "#Achieved an accuracy of 92% on the testing data set and other validation-measures are as shown in the report above\n",
        "#At last we are plotting a graph of the training loss an accuracy\n",
        "N = EPOCHS\n",
        "plt.style.use(\"ggplot\")\n",
        "plt.figure()\n",
        "plt.plot(np.arange(0, N), H.history[\"loss\"], label=\"train_loss\")\n",
        "plt.plot(np.arange(0, N), H.history[\"val_loss\"], label=\"test_loss\")\n",
        "plt.plot(np.arange(0, N), H.history[\"accuracy\"], label=\"train_acc\")\n",
        "plt.plot(np.arange(0, N), H.history[\"val_accuracy\"], label=\"test_acc\")\n",
        "plt.title(\"Training Loss and Accuracy on COVID-19 Dataset\")\n",
        "plt.xlabel(\"Epoch #\")\n",
        "plt.ylabel(\"Loss/Accuracy\")\n",
        "plt.legend(loc=\"lower left\")\n"
      ],
      "execution_count": 114,
      "outputs": [
        {
          "output_type": "execute_result",
          "data": {
            "text/plain": [
              "<matplotlib.legend.Legend at 0x7f31d6d69908>"
            ]
          },
          "metadata": {
            "tags": []
          },
          "execution_count": 114
        },
        {
          "output_type": "display_data",
          "data": {
            "image/png": "[encoded data removed]",
            "text/plain": [
              "<Figure size 432x288 with 1 Axes>"
            ]
          },
          "metadata": {
            "tags": []
          }
        }
      ]
    },
    {
      "cell_type": "code",
      "metadata": {
        "id": "nuaFxnEq4jnb",
        "colab_type": "code",
        "colab": {
          "base_uri": "https://localhost:8080/",
          "height": 287
        },
        "outputId": "711893c5-acc6-443f-a725-a0f995fbff6a"
      },
      "source": [
        "import seaborn as sn\n",
        "sn.heatmap(cm,annot = True,fmt = \"d\") #formatting confusion matrix to integers type"
      ],
      "execution_count": 115,
      "outputs": [
        {
          "output_type": "execute_result",
          "data": {
            "text/plain": [
              "<matplotlib.axes._subplots.AxesSubplot at 0x7f31d6d2cc18>"
            ]
          },
          "metadata": {
            "tags": []
          },
          "execution_count": 115
        },
        {
          "output_type": "display_data",
          "data": {
            "image/png": "[encoded data removed]",
            "text/plain": [
              "<Figure size 432x288 with 2 Axes>"
            ]
          },
          "metadata": {
            "tags": []
          }
        }
      ]
    },
    {
      "cell_type": "code",
      "metadata": {
        "id": "U3DJk3ca4xS3",
        "colab_type": "code",
        "colab": {
          "base_uri": "https://localhost:8080/",
          "height": 317
        },
        "outputId": "03adde58-c3b6-44da-841e-79c2c7f417b0"
      },
      "source": [
        "#Analyzing the variation of accuracy with batch size\n",
        "plt.plot([2,4,6,8,10],Accuracy[:5])\n",
        "plt.title(\"Variation of accuracy with batch size\")\n",
        "plt.xlabel(\"Batch_size\")\n",
        "plt.ylabel(\"Accuracy\")\n",
        "#plt.legend(loc=\"lower left\")"
      ],
      "execution_count": 118,
      "outputs": [
        {
          "output_type": "execute_result",
          "data": {
            "text/plain": [
              "Text(0, 0.5, 'Accuracy')"
            ]
          },
          "metadata": {
            "tags": []
          },
          "execution_count": 118
        },
        {
          "output_type": "display_data",
          "data": {
            "image/png": "[encoded data removed]",
            "text/plain": [
              "<Figure size 432x288 with 1 Axes>"
            ]
          },
          "metadata": {
            "tags": []
          }
        }
      ]
    },
    {
      "cell_type": "code",
      "metadata": {
        "id": "2iTwyorsDLXa",
        "colab_type": "code",
        "colab": {}
      },
      "source": [
        ""
      ],
      "execution_count": 0,
      "outputs": []
    }
  ]
}