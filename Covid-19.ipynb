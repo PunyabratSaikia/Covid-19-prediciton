{
  "nbformat": 4,
  "nbformat_minor": 0,
  "metadata": {
    "kernelspec": {
      "display_name": "Python 3",
      "language": "python",
      "name": "python3"
    },
    "language_info": {
      "codemirror_mode": {
        "name": "ipython",
        "version": 3
      },
      "file_extension": ".py",
      "mimetype": "text/x-python",
      "name": "python",
      "nbconvert_exporter": "python",
      "pygments_lexer": "ipython3",
      "version": "3.6.5"
    },
    "colab": {
      "name": "Untitled.ipynb",
      "provenance": [],
      "collapsed_sections": [],
      "include_colab_link": true
    },
    "accelerator": "GPU"
  },
  "cells": [
    {
      "cell_type": "markdown",
      "metadata": {
        "id": "view-in-github",
        "colab_type": "text"
      },
      "source": [
        "<a href=\"https://colab.research.google.com/github/PunyabratSaikia/Covid-19-prediciton/blob/master/Covid-19.ipynb\" target=\"_parent\"><img src=\"https://colab.research.google.com/assets/colab-badge.svg\" alt=\"Open In Colab\"/></a>"
      ]
    },
    {
      "cell_type": "code",
      "metadata": {
        "id": "M4zWTs4nwGkO",
        "colab_type": "code",
        "colab": {
          "base_uri": "https://localhost:8080/",
          "height": 128
        },
        "outputId": "1126f6ba-a939-49ee-8569-ede133bb6e69"
      },
      "source": [
        "#importing google drive to get access to the datasets\n",
        "from google.colab import drive\n",
        "drive.mount('/content/drive')"
      ],
      "execution_count": 2,
      "outputs": [
        {
          "output_type": "stream",
          "text": [
            "Go to this URL in a browser: https://accounts.google.com/o/oauth2/auth?client_id=947318989803-6bn6qk8qdgf4n4g3pfee6491hc0brc4i.apps.googleusercontent.com&redirect_uri=urn%3aietf%3awg%3aoauth%3a2.0%3aoob&response_type=code&scope=email%20https%3a%2f%2fwww.googleapis.com%2fauth%2fdocs.test%20https%3a%2f%2fwww.googleapis.com%2fauth%2fdrive%20https%3a%2f%2fwww.googleapis.com%2fauth%2fdrive.photos.readonly%20https%3a%2f%2fwww.googleapis.com%2fauth%2fpeopleapi.readonly\n",
            "\n",
            "Enter your authorization code:\n",
            "··········\n",
            "Mounted at /content/drive\n"
          ],
          "name": "stdout"
        }
      ]
    },
    {
      "cell_type": "code",
      "metadata": {
        "id": "lai7zm4nwx9d",
        "colab_type": "code",
        "colab": {
          "base_uri": "https://localhost:8080/",
          "height": 925
        },
        "outputId": "be20ef82-388a-4c36-d855-ed48594bbfe7"
      },
      "source": [
        "\n",
        "# At first, we import all the necessary python packages\n",
        "\n",
        "import matplotlib.pyplot as plt\n",
        "import numpy as np\n",
        "import argparse\n",
        "import cv2\n",
        "import os\n",
        "\n",
        "#we create two lists,one for our images data and the other for their labels.\n",
        "\n",
        "data = []\n",
        "labels = []\n",
        "\n",
        "#path to the dataset containing normal images in google drive\n",
        "path = \"/content/drive/My Drive/keras-covid-19/dataset/normal\"\n",
        "\n",
        "# looping over the images of normal-dataset\n",
        "for file in os.listdir(\"/content/drive/My Drive/keras-covid-19/dataset/normal\"):\n",
        "\t# setting label as '0' for normal images\n",
        "\tlabel = 0\n",
        "\n",
        "\t# loading the image,converting to rgb format and resizing to\n",
        "\t# 224x224 pixels while ignoring aspect ratio\n",
        "\n",
        "\timage = cv2.imread(path + '/' + file)\n",
        "\timage = cv2.cvtColor(image, cv2.COLOR_BGR2RGB)\n",
        "\timage = cv2.resize(image, (224, 224))\n",
        "\n",
        "\t# updating the data and labels lists, respectively\n",
        "\tdata.append(image)\n",
        "\tlabels.append(label)\n",
        "\n",
        "#path to the dataset containing covid-19 images in google drive\n",
        "path1 = \"/content/drive/My Drive/keras-covid-19/dataset/covid\"\n",
        "\n",
        "# looping over the images of covid-19-dataset\n",
        "for file in os.listdir(\"/content/drive/My Drive/keras-covid-19/dataset/covid\"):\n",
        "\t# setting label as '1' for covid images\n",
        "\tlabel = 1\n",
        "\n",
        "  # loading the image,converting to rgb format and resizing to\n",
        "\t# 224x224 pixels while ignoring aspect ratio\n",
        "\n",
        "\timage = cv2.imread(path1+ '/' + file)\n",
        "\timage = cv2.cvtColor(image, cv2.COLOR_BGR2RGB)\n",
        "\timage = cv2.resize(image, (224, 224))\n",
        "\n",
        "\t# update the data and labels lists, respectively\n",
        "\tdata.append(image)\n",
        "\tlabels.append(label)\n",
        "\n",
        "# convert the data and labels to NumPy arrays while scaling the pixel\n",
        "# intensities to the range [0, 255]\n",
        "data = np.array(data) / 255.0\n",
        "labels = np.array(labels)\n",
        "\n",
        "\n",
        "# converting the labels to one-hot-encode format\n",
        "lb = LabelBinarizer()\n",
        "labels = lb.fit_transform(labels)\n",
        "labels = to_categorical(labels)\n",
        "\n",
        "#viewing the labels as one-hot-encoded vectors\n",
        "print(labels)\n"
      ],
      "execution_count": 18,
      "outputs": [
        {
          "output_type": "stream",
          "text": [
            "[[1. 0.]\n",
            " [1. 0.]\n",
            " [1. 0.]\n",
            " [1. 0.]\n",
            " [1. 0.]\n",
            " [1. 0.]\n",
            " [1. 0.]\n",
            " [1. 0.]\n",
            " [1. 0.]\n",
            " [1. 0.]\n",
            " [1. 0.]\n",
            " [1. 0.]\n",
            " [1. 0.]\n",
            " [1. 0.]\n",
            " [1. 0.]\n",
            " [1. 0.]\n",
            " [1. 0.]\n",
            " [1. 0.]\n",
            " [1. 0.]\n",
            " [1. 0.]\n",
            " [1. 0.]\n",
            " [1. 0.]\n",
            " [1. 0.]\n",
            " [1. 0.]\n",
            " [1. 0.]\n",
            " [0. 1.]\n",
            " [0. 1.]\n",
            " [0. 1.]\n",
            " [0. 1.]\n",
            " [0. 1.]\n",
            " [0. 1.]\n",
            " [0. 1.]\n",
            " [0. 1.]\n",
            " [0. 1.]\n",
            " [0. 1.]\n",
            " [0. 1.]\n",
            " [0. 1.]\n",
            " [0. 1.]\n",
            " [0. 1.]\n",
            " [0. 1.]\n",
            " [0. 1.]\n",
            " [0. 1.]\n",
            " [0. 1.]\n",
            " [0. 1.]\n",
            " [0. 1.]\n",
            " [0. 1.]\n",
            " [0. 1.]\n",
            " [0. 1.]\n",
            " [0. 1.]\n",
            " [0. 1.]]\n"
          ],
          "name": "stdout"
        }
      ]
    },
    {
      "cell_type": "code",
      "metadata": {
        "id": "3RRBzAA--HvX",
        "colab_type": "code",
        "colab": {}
      },
      "source": [
        ""
      ],
      "execution_count": 0,
      "outputs": []
    },
    {
      "cell_type": "code",
      "metadata": {
        "id": "QS9chelYwGka",
        "colab_type": "code",
        "colab": {
          "base_uri": "https://localhost:8080/",
          "height": 980
        },
        "outputId": "279781a8-ac8e-46f7-a43e-1c8d83c7fd5f"
      },
      "source": [
        ""
      ],
      "execution_count": 8,
      "outputs": [
        {
          "output_type": "stream",
          "text": [
            "[INFO] compiling model...\n",
            "[INFO] training head...\n",
            "Epoch 1/25\n",
            "5/5 [==============================] - 1s 117ms/step - loss: 0.9600 - accuracy: 0.3750 - val_loss: 0.6732 - val_accuracy: 0.6000\n",
            "Epoch 2/25\n",
            "5/5 [==============================] - 0s 86ms/step - loss: 0.9934 - accuracy: 0.4000 - val_loss: 0.6617 - val_accuracy: 0.6000\n",
            "Epoch 3/25\n",
            "5/5 [==============================] - 0s 83ms/step - loss: 0.6493 - accuracy: 0.6500 - val_loss: 0.6401 - val_accuracy: 0.6000\n",
            "Epoch 4/25\n",
            "5/5 [==============================] - 0s 85ms/step - loss: 0.6620 - accuracy: 0.6250 - val_loss: 0.6123 - val_accuracy: 0.7000\n",
            "Epoch 5/25\n",
            "5/5 [==============================] - 0s 86ms/step - loss: 0.6011 - accuracy: 0.6250 - val_loss: 0.5920 - val_accuracy: 0.7000\n",
            "Epoch 6/25\n",
            "5/5 [==============================] - 0s 84ms/step - loss: 0.6107 - accuracy: 0.6250 - val_loss: 0.5806 - val_accuracy: 1.0000\n",
            "Epoch 7/25\n",
            "5/5 [==============================] - 0s 82ms/step - loss: 0.6377 - accuracy: 0.6500 - val_loss: 0.5707 - val_accuracy: 0.7000\n",
            "Epoch 8/25\n",
            "5/5 [==============================] - 0s 88ms/step - loss: 0.5989 - accuracy: 0.6250 - val_loss: 0.5530 - val_accuracy: 0.8000\n",
            "Epoch 9/25\n",
            "5/5 [==============================] - 0s 83ms/step - loss: 0.5982 - accuracy: 0.6500 - val_loss: 0.5329 - val_accuracy: 0.9000\n",
            "Epoch 10/25\n",
            "5/5 [==============================] - 0s 85ms/step - loss: 0.5553 - accuracy: 0.7250 - val_loss: 0.5194 - val_accuracy: 0.8000\n",
            "Epoch 11/25\n",
            "5/5 [==============================] - 0s 85ms/step - loss: 0.4938 - accuracy: 0.7750 - val_loss: 0.4996 - val_accuracy: 1.0000\n",
            "Epoch 12/25\n",
            "5/5 [==============================] - 0s 85ms/step - loss: 0.5064 - accuracy: 0.7750 - val_loss: 0.4878 - val_accuracy: 1.0000\n",
            "Epoch 13/25\n",
            "5/5 [==============================] - 0s 84ms/step - loss: 0.4865 - accuracy: 0.8000 - val_loss: 0.4723 - val_accuracy: 1.0000\n",
            "Epoch 14/25\n",
            "5/5 [==============================] - 0s 83ms/step - loss: 0.4743 - accuracy: 0.8000 - val_loss: 0.4631 - val_accuracy: 1.0000\n",
            "Epoch 15/25\n",
            "5/5 [==============================] - 0s 86ms/step - loss: 0.3893 - accuracy: 0.9000 - val_loss: 0.4523 - val_accuracy: 1.0000\n",
            "Epoch 16/25\n",
            "5/5 [==============================] - 0s 83ms/step - loss: 0.4661 - accuracy: 0.8500 - val_loss: 0.4319 - val_accuracy: 1.0000\n",
            "Epoch 17/25\n",
            "5/5 [==============================] - 0s 83ms/step - loss: 0.4722 - accuracy: 0.8250 - val_loss: 0.4160 - val_accuracy: 1.0000\n",
            "Epoch 18/25\n",
            "5/5 [==============================] - 0s 85ms/step - loss: 0.4394 - accuracy: 0.8500 - val_loss: 0.4035 - val_accuracy: 1.0000\n",
            "Epoch 19/25\n",
            "5/5 [==============================] - 0s 83ms/step - loss: 0.4404 - accuracy: 0.8250 - val_loss: 0.3950 - val_accuracy: 1.0000\n",
            "Epoch 20/25\n",
            "5/5 [==============================] - 0s 85ms/step - loss: 0.4540 - accuracy: 0.7500 - val_loss: 0.4062 - val_accuracy: 0.9000\n",
            "Epoch 21/25\n",
            "5/5 [==============================] - 0s 82ms/step - loss: 0.3921 - accuracy: 0.8750 - val_loss: 0.3949 - val_accuracy: 0.9000\n",
            "Epoch 22/25\n",
            "5/5 [==============================] - 0s 84ms/step - loss: 0.3301 - accuracy: 0.9500 - val_loss: 0.3626 - val_accuracy: 1.0000\n",
            "Epoch 23/25\n",
            "5/5 [==============================] - 0s 83ms/step - loss: 0.3828 - accuracy: 0.8750 - val_loss: 0.3553 - val_accuracy: 1.0000\n",
            "Epoch 24/25\n",
            "5/5 [==============================] - 0s 84ms/step - loss: 0.3121 - accuracy: 0.9500 - val_loss: 0.3405 - val_accuracy: 1.0000\n",
            "Epoch 25/25\n",
            "5/5 [==============================] - 0s 83ms/step - loss: 0.3316 - accuracy: 0.9250 - val_loss: 0.3677 - val_accuracy: 0.8000\n",
            "[INFO] evaluating network...\n"
          ],
          "name": "stdout"
        }
      ]
    },
    {
      "cell_type": "code",
      "metadata": {
        "id": "HwXJlZJv7Sy_",
        "colab_type": "code",
        "colab": {
          "base_uri": "https://localhost:8080/",
          "height": 35
        },
        "outputId": "ce38962f-b168-44b0-bbcc-1623fe708580"
      },
      "source": [
        "predIdxs\n",
        "testY.argmax(axis=1)"
      ],
      "execution_count": 9,
      "outputs": [
        {
          "output_type": "execute_result",
          "data": {
            "text/plain": [
              "array([1, 1, 1, 1, 1, 0, 0, 1, 1, 0])"
            ]
          },
          "metadata": {
            "tags": []
          },
          "execution_count": 9
        }
      ]
    },
    {
      "cell_type": "code",
      "metadata": {
        "id": "jqaYODHa7uLP",
        "colab_type": "code",
        "colab": {
          "base_uri": "https://localhost:8080/",
          "height": 181
        },
        "outputId": "a88c26cc-58ac-422f-91e3-5a18bf227971"
      },
      "source": [
        ""
      ],
      "execution_count": 14,
      "outputs": [
        {
          "output_type": "stream",
          "text": [
            "              precision    recall  f1-score   support\n",
            "\n",
            "           0       1.00      0.60      0.75         5\n",
            "           1       0.71      1.00      0.83         5\n",
            "\n",
            "    accuracy                           0.80        10\n",
            "   macro avg       0.86      0.80      0.79        10\n",
            "weighted avg       0.86      0.80      0.79        10\n",
            "\n"
          ],
          "name": "stdout"
        }
      ]
    },
    {
      "cell_type": "code",
      "metadata": {
        "id": "o7jVmgeL3Nv8",
        "colab_type": "code",
        "colab": {
          "base_uri": "https://localhost:8080/",
          "height": 408
        },
        "outputId": "92ad8e65-cbb3-4af2-c464-f6a58aae3284"
      },
      "source": [
        "\n"
      ],
      "execution_count": 17,
      "outputs": [
        {
          "output_type": "stream",
          "text": [
            "[[3 2]\n",
            " [0 5]]\n",
            "acc: 0.8000\n",
            "sensitivity: 0.6000\n",
            "specificity: 1.0000\n",
            "[INFO] saving COVID-19 detector model...\n"
          ],
          "name": "stdout"
        },
        {
          "output_type": "display_data",
          "data": {
            "image/png": "[encoded data removed]",
            "text/plain": [
              "<Figure size 432x288 with 1 Axes>"
            ]
          },
          "metadata": {
            "tags": []
          }
        }
      ]
    },
    {
      "cell_type": "code",
      "metadata": {
        "id": "st51JjPZ8cuQ",
        "colab_type": "code",
        "colab": {}
      },
      "source": [
        ""
      ],
      "execution_count": 0,
      "outputs": []
    }
  ]
}